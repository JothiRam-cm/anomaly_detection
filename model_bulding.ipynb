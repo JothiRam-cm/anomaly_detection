{
 "cells": [
  {
   "cell_type": "code",
   "execution_count": 1,
   "id": "11801edc",
   "metadata": {},
   "outputs": [
    {
     "name": "stdout",
     "output_type": "stream",
     "text": [
      "Collecting numpy\n",
      "  Downloading numpy-2.3.2-cp312-cp312-win_amd64.whl.metadata (60 kB)\n",
      "Collecting pandas\n",
      "  Using cached pandas-2.3.1-cp312-cp312-win_amd64.whl.metadata (19 kB)\n",
      "Collecting scikit-learn\n",
      "  Downloading scikit_learn-1.7.1-cp312-cp312-win_amd64.whl.metadata (11 kB)\n",
      "Collecting scipy\n",
      "  Downloading scipy-1.16.1-cp312-cp312-win_amd64.whl.metadata (60 kB)\n",
      "Collecting matplotlib\n",
      "  Using cached matplotlib-3.10.3-cp312-cp312-win_amd64.whl.metadata (11 kB)\n",
      "Collecting seaborn\n",
      "  Downloading seaborn-0.13.2-py3-none-any.whl.metadata (5.4 kB)\n",
      "Requirement already satisfied: python-dateutil>=2.8.2 in d:\\projects\\anamoly_detection\\env\\lib\\site-packages (from pandas) (2.9.0.post0)\n",
      "Collecting pytz>=2020.1 (from pandas)\n",
      "  Using cached pytz-2025.2-py2.py3-none-any.whl.metadata (22 kB)\n",
      "Collecting tzdata>=2022.7 (from pandas)\n",
      "  Using cached tzdata-2025.2-py2.py3-none-any.whl.metadata (1.4 kB)\n",
      "Collecting joblib>=1.2.0 (from scikit-learn)\n",
      "  Downloading joblib-1.5.1-py3-none-any.whl.metadata (5.6 kB)\n",
      "Collecting threadpoolctl>=3.1.0 (from scikit-learn)\n",
      "  Using cached threadpoolctl-3.6.0-py3-none-any.whl.metadata (13 kB)\n",
      "Collecting contourpy>=1.0.1 (from matplotlib)\n",
      "  Downloading contourpy-1.3.3-cp312-cp312-win_amd64.whl.metadata (5.5 kB)\n",
      "Collecting cycler>=0.10 (from matplotlib)\n",
      "  Using cached cycler-0.12.1-py3-none-any.whl.metadata (3.8 kB)\n",
      "Collecting fonttools>=4.22.0 (from matplotlib)\n",
      "  Downloading fonttools-4.59.0-cp312-cp312-win_amd64.whl.metadata (110 kB)\n",
      "Collecting kiwisolver>=1.3.1 (from matplotlib)\n",
      "  Using cached kiwisolver-1.4.8-cp312-cp312-win_amd64.whl.metadata (6.3 kB)\n",
      "Requirement already satisfied: packaging>=20.0 in d:\\projects\\anamoly_detection\\env\\lib\\site-packages (from matplotlib) (25.0)\n",
      "Collecting pillow>=8 (from matplotlib)\n",
      "  Downloading pillow-11.3.0-cp312-cp312-win_amd64.whl.metadata (9.2 kB)\n",
      "Collecting pyparsing>=2.3.1 (from matplotlib)\n",
      "  Using cached pyparsing-3.2.3-py3-none-any.whl.metadata (5.0 kB)\n",
      "Requirement already satisfied: six>=1.5 in d:\\projects\\anamoly_detection\\env\\lib\\site-packages (from python-dateutil>=2.8.2->pandas) (1.17.0)\n",
      "Downloading numpy-2.3.2-cp312-cp312-win_amd64.whl (12.8 MB)\n",
      "   ---------------------------------------- 0.0/12.8 MB ? eta -:--:--\n",
      "   ---------------------------------------- 0.0/12.8 MB ? eta -:--:--\n",
      "   ---------------------------------------- 0.0/12.8 MB ? eta -:--:--\n",
      "   ---------------------------------------- 0.0/12.8 MB ? eta -:--:--\n",
      "   ---------------------------------------- 0.0/12.8 MB ? eta -:--:--\n",
      "   ---------------------------------------- 0.0/12.8 MB ? eta -:--:--\n",
      "   ---------------------------------------- 0.0/12.8 MB ? eta -:--:--\n",
      "   ---------------------------------------- 0.0/12.8 MB ? eta -:--:--\n",
      "   ---------------------------------------- 0.0/12.8 MB ? eta -:--:--\n",
      "   ---------------------------------------- 0.0/12.8 MB ? eta -:--:--\n",
      "   ---------------------------------------- 0.0/12.8 MB ? eta -:--:--\n",
      "   ---------------------------------------- 0.0/12.8 MB ? eta -:--:--\n",
      "   ---------------------------------------- 0.0/12.8 MB ? eta -:--:--\n",
      "   ---------------------------------------- 0.0/12.8 MB ? eta -:--:--\n",
      "   ---------------------------------------- 0.0/12.8 MB ? eta -:--:--\n",
      "   ---------------------------------------- 0.0/12.8 MB ? eta -:--:--\n",
      "   ---------------------------------------- 0.0/12.8 MB ? eta -:--:--\n",
      "   ---------------------------------------- 0.0/12.8 MB ? eta -:--:--\n",
      "   ---------------------------------------- 0.0/12.8 MB ? eta -:--:--\n",
      "   ---------------------------------------- 0.0/12.8 MB ? eta -:--:--\n",
      "   ---------------------------------------- 0.0/12.8 MB ? eta -:--:--\n",
      "   ---------------------------------------- 0.0/12.8 MB ? eta -:--:--\n",
      "   ---------------------------------------- 0.0/12.8 MB ? eta -:--:--\n",
      "   ---------------------------------------- 0.0/12.8 MB ? eta -:--:--\n",
      "   ---------------------------------------- 0.0/12.8 MB ? eta -:--:--\n",
      "   ---------------------------------------- 0.0/12.8 MB ? eta -:--:--\n",
      "   ---------------------------------------- 0.0/12.8 MB ? eta -:--:--\n",
      "   ---------------------------------------- 0.0/12.8 MB ? eta -:--:--\n",
      "   ---------------------------------------- 0.0/12.8 MB ? eta -:--:--\n",
      "   ---------------------------------------- 0.0/12.8 MB ? eta -:--:--\n",
      "   ---------------------------------------- 0.0/12.8 MB ? eta -:--:--\n",
      "   ---------------------------------------- 0.0/12.8 MB ? eta -:--:--\n",
      "   ---------------------------------------- 0.0/12.8 MB ? eta -:--:--\n",
      "   ---------------------------------------- 0.0/12.8 MB ? eta -:--:--\n",
      "   ---------------------------------------- 0.0/12.8 MB ? eta -:--:--\n",
      "   ---------------------------------------- 0.0/12.8 MB ? eta -:--:--\n",
      "   ---------------------------------------- 0.0/12.8 MB ? eta -:--:--\n",
      "   ---------------------------------------- 0.0/12.8 MB ? eta -:--:--\n",
      "   ---------------------------------------- 0.0/12.8 MB ? eta -:--:--\n",
      "   ---------------------------------------- 0.0/12.8 MB ? eta -:--:--\n",
      "   ---------------------------------------- 0.0/12.8 MB ? eta -:--:--\n",
      "   ---------------------------------------- 0.0/12.8 MB ? eta -:--:--\n",
      "   ---------------------------------------- 0.0/12.8 MB ? eta -:--:--\n",
      "   ---------------------------------------- 0.0/12.8 MB ? eta -:--:--\n",
      "   ---------------------------------------- 0.0/12.8 MB ? eta -:--:--\n",
      "   ---------------------------------------- 0.0/12.8 MB ? eta -:--:--\n",
      "   ---------------------------------------- 0.0/12.8 MB ? eta -:--:--\n",
      "   ---------------------------------------- 0.0/12.8 MB ? eta -:--:--\n",
      "   ---------------------------------------- 0.0/12.8 MB ? eta -:--:--\n",
      "   ---------------------------------------- 0.0/12.8 MB ? eta -:--:--\n",
      "   ---------------------------------------- 0.0/12.8 MB ? eta -:--:--\n",
      "   ---------------------------------------- 0.0/12.8 MB ? eta -:--:--\n",
      "   ---------------------------------------- 0.0/12.8 MB ? eta -:--:--\n",
      "   ---------------------------------------- 0.0/12.8 MB ? eta -:--:--\n",
      "   ---------------------------------------- 0.0/12.8 MB ? eta -:--:--\n",
      "   ---------------------------------------- 0.0/12.8 MB ? eta -:--:--\n",
      "   ---------------------------------------- 0.0/12.8 MB ? eta -:--:--\n",
      "   ---------------------------------------- 0.0/12.8 MB ? eta -:--:--\n",
      "   ---------------------------------------- 0.0/12.8 MB ? eta -:--:--\n",
      "   ---------------------------------------- 0.0/12.8 MB ? eta -:--:--\n",
      "   ---------------------------------------- 0.0/12.8 MB ? eta -:--:--\n",
      "   ---------------------------------------- 0.0/12.8 MB ? eta -:--:--\n",
      "   ---------------------------------------- 0.0/12.8 MB ? eta -:--:--\n",
      "   ---------------------------------------- 0.0/12.8 MB ? eta -:--:--\n",
      "   ---------------------------------------- 0.0/12.8 MB ? eta -:--:--\n",
      "   ---------------------------------------- 0.0/12.8 MB ? eta -:--:--\n",
      "   ---------------------------------------- 0.0/12.8 MB ? eta -:--:--\n",
      "   ---------------------------------------- 0.0/12.8 MB ? eta -:--:--\n",
      "   ---------------------------------------- 0.0/12.8 MB ? eta -:--:--\n",
      "   ---------------------------------------- 0.0/12.8 MB ? eta -:--:--\n",
      "   ---------------------------------------- 0.0/12.8 MB ? eta -:--:--\n",
      "   ---------------------------------------- 0.0/12.8 MB ? eta -:--:--\n",
      "   ---------------------------------------- 0.0/12.8 MB ? eta -:--:--\n",
      "   ---------------------------------------- 0.0/12.8 MB ? eta -:--:--\n",
      "   ---------------------------------------- 0.0/12.8 MB ? eta -:--:--\n",
      "   ---------------------------------------- 0.0/12.8 MB ? eta -:--:--\n",
      "   ---------------------------------------- 0.0/12.8 MB ? eta -:--:--\n",
      "   ---------------------------------------- 0.0/12.8 MB ? eta -:--:--\n",
      "    --------------------------------------- 0.3/12.8 MB ? eta -:--:--\n",
      "    --------------------------------------- 0.3/12.8 MB ? eta -:--:--\n",
      "    --------------------------------------- 0.3/12.8 MB ? eta -:--:--\n",
      "    --------------------------------------- 0.3/12.8 MB ? eta -:--:--\n",
      "    --------------------------------------- 0.3/12.8 MB ? eta -:--:--\n",
      "    --------------------------------------- 0.3/12.8 MB ? eta -:--:--\n",
      "    --------------------------------------- 0.3/12.8 MB ? eta -:--:--\n",
      "    --------------------------------------- 0.3/12.8 MB ? eta -:--:--\n",
      "    --------------------------------------- 0.3/12.8 MB ? eta -:--:--\n",
      "    --------------------------------------- 0.3/12.8 MB ? eta -:--:--\n",
      "    --------------------------------------- 0.3/12.8 MB ? eta -:--:--\n",
      "    --------------------------------------- 0.3/12.8 MB ? eta -:--:--\n",
      "    --------------------------------------- 0.3/12.8 MB ? eta -:--:--\n",
      "    --------------------------------------- 0.3/12.8 MB ? eta -:--:--\n",
      "    --------------------------------------- 0.3/12.8 MB ? eta -:--:--\n",
      "    --------------------------------------- 0.3/12.8 MB ? eta -:--:--\n",
      "    --------------------------------------- 0.3/12.8 MB ? eta -:--:--\n",
      "    --------------------------------------- 0.3/12.8 MB ? eta -:--:--\n",
      "    --------------------------------------- 0.3/12.8 MB ? eta -:--:--\n",
      "    --------------------------------------- 0.3/12.8 MB ? eta -:--:--\n",
      "    --------------------------------------- 0.3/12.8 MB ? eta -:--:--\n",
      "    --------------------------------------- 0.3/12.8 MB ? eta -:--:--\n",
      "    --------------------------------------- 0.3/12.8 MB ? eta -:--:--\n",
      "    --------------------------------------- 0.3/12.8 MB ? eta -:--:--\n",
      "    --------------------------------------- 0.3/12.8 MB ? eta -:--:--\n",
      "   -- ------------------------------------- 0.8/12.8 MB 96.1 kB/s eta 0:02:05\n",
      "   ---- ----------------------------------- 1.6/12.8 MB 228.6 kB/s eta 0:00:50\n",
      "   ------ --------------------------------- 2.1/12.8 MB 309.9 kB/s eta 0:00:35\n",
      "   --------- ------------------------------ 3.1/12.8 MB 467.2 kB/s eta 0:00:21\n",
      "   ----------- ---------------------------- 3.7/12.8 MB 538.5 kB/s eta 0:00:17\n",
      "   -------------- ------------------------- 4.7/12.8 MB 677.5 kB/s eta 0:00:12\n",
      "   ----------------- ---------------------- 5.5/12.8 MB 773.2 kB/s eta 0:00:10\n",
      "   -------------------- ------------------- 6.6/12.8 MB 894.8 kB/s eta 0:00:07\n",
      "   ---------------------- ----------------- 7.3/12.8 MB 980.5 kB/s eta 0:00:06\n",
      "   -------------------------- ------------- 8.4/12.8 MB 1.1 MB/s eta 0:00:05\n",
      "   ---------------------------- ----------- 9.2/12.8 MB 1.2 MB/s eta 0:00:04\n",
      "   ------------------------------- -------- 10.2/12.8 MB 1.3 MB/s eta 0:00:03\n",
      "   ---------------------------------- ----- 11.0/12.8 MB 1.3 MB/s eta 0:00:02\n",
      "   ------------------------------------- -- 12.1/12.8 MB 1.4 MB/s eta 0:00:01\n",
      "   ---------------------------------------- 12.8/12.8 MB 1.5 MB/s eta 0:00:00\n",
      "Using cached pandas-2.3.1-cp312-cp312-win_amd64.whl (11.0 MB)\n",
      "Downloading scikit_learn-1.7.1-cp312-cp312-win_amd64.whl (8.7 MB)\n",
      "   ---------------------------------------- 0.0/8.7 MB ? eta -:--:--\n",
      "   --- ------------------------------------ 0.8/8.7 MB 4.8 MB/s eta 0:00:02\n",
      "   ------- -------------------------------- 1.6/8.7 MB 4.4 MB/s eta 0:00:02\n",
      "   ---------- ----------------------------- 2.4/8.7 MB 4.3 MB/s eta 0:00:02\n",
      "   --------------- ------------------------ 3.4/8.7 MB 4.1 MB/s eta 0:00:02\n",
      "   ------------------- -------------------- 4.2/8.7 MB 4.0 MB/s eta 0:00:02\n",
      "   --------------------- ------------------ 4.7/8.7 MB 4.0 MB/s eta 0:00:01\n",
      "   ------------------------- -------------- 5.5/8.7 MB 3.8 MB/s eta 0:00:01\n",
      "   --------------------------- ------------ 6.0/8.7 MB 3.7 MB/s eta 0:00:01\n",
      "   ------------------------------ --------- 6.6/8.7 MB 3.5 MB/s eta 0:00:01\n",
      "   -------------------------------- ------- 7.1/8.7 MB 3.5 MB/s eta 0:00:01\n",
      "   ------------------------------------ --- 7.9/8.7 MB 3.4 MB/s eta 0:00:01\n",
      "   ---------------------------------------- 8.7/8.7 MB 3.4 MB/s eta 0:00:00\n",
      "Downloading scipy-1.16.1-cp312-cp312-win_amd64.whl (38.5 MB)\n",
      "   ---------------------------------------- 0.0/38.5 MB ? eta -:--:--\n",
      "   ---------------------------------------- 0.3/38.5 MB ? eta -:--:--\n",
      "    --------------------------------------- 0.8/38.5 MB 1.8 MB/s eta 0:00:22\n",
      "   - -------------------------------------- 1.3/38.5 MB 1.9 MB/s eta 0:00:20\n",
      "   - -------------------------------------- 1.8/38.5 MB 2.1 MB/s eta 0:00:18\n",
      "   -- ------------------------------------- 2.4/38.5 MB 2.3 MB/s eta 0:00:16\n",
      "   --- ------------------------------------ 3.4/38.5 MB 2.6 MB/s eta 0:00:14\n",
      "   ---- ----------------------------------- 4.2/38.5 MB 2.9 MB/s eta 0:00:12\n",
      "   ----- ---------------------------------- 5.2/38.5 MB 3.1 MB/s eta 0:00:11\n",
      "   ------ --------------------------------- 6.3/38.5 MB 3.3 MB/s eta 0:00:10\n",
      "   ------- -------------------------------- 7.1/38.5 MB 3.4 MB/s eta 0:00:10\n",
      "   -------- ------------------------------- 8.1/38.5 MB 3.5 MB/s eta 0:00:09\n",
      "   --------- ------------------------------ 9.2/38.5 MB 3.6 MB/s eta 0:00:09\n",
      "   ---------- ----------------------------- 10.0/38.5 MB 3.7 MB/s eta 0:00:08\n",
      "   ----------- ---------------------------- 11.0/38.5 MB 3.8 MB/s eta 0:00:08\n",
      "   ------------ --------------------------- 12.1/38.5 MB 3.8 MB/s eta 0:00:07\n",
      "   ------------- -------------------------- 13.1/38.5 MB 3.9 MB/s eta 0:00:07\n",
      "   -------------- ------------------------- 14.2/38.5 MB 3.9 MB/s eta 0:00:07\n",
      "   --------------- ------------------------ 15.2/38.5 MB 4.0 MB/s eta 0:00:06\n",
      "   ---------------- ----------------------- 16.3/38.5 MB 4.0 MB/s eta 0:00:06\n",
      "   ----------------- ---------------------- 17.3/38.5 MB 4.1 MB/s eta 0:00:06\n",
      "   ------------------- -------------------- 18.4/38.5 MB 4.2 MB/s eta 0:00:05\n",
      "   -------------------- ------------------- 19.9/38.5 MB 4.3 MB/s eta 0:00:05\n",
      "   ---------------------- ----------------- 21.2/38.5 MB 4.4 MB/s eta 0:00:04\n",
      "   ----------------------- ---------------- 22.8/38.5 MB 4.5 MB/s eta 0:00:04\n",
      "   ------------------------- -------------- 24.1/38.5 MB 4.6 MB/s eta 0:00:04\n",
      "   -------------------------- ------------- 25.7/38.5 MB 4.6 MB/s eta 0:00:03\n",
      "   ---------------------------- ----------- 27.0/38.5 MB 4.7 MB/s eta 0:00:03\n",
      "   ----------------------------- ---------- 28.8/38.5 MB 4.9 MB/s eta 0:00:02\n",
      "   ------------------------------- -------- 30.7/38.5 MB 5.0 MB/s eta 0:00:02\n",
      "   --------------------------------- ------ 32.2/38.5 MB 5.1 MB/s eta 0:00:02\n",
      "   ----------------------------------- ---- 34.1/38.5 MB 5.2 MB/s eta 0:00:01\n",
      "   ------------------------------------- -- 36.2/38.5 MB 5.3 MB/s eta 0:00:01\n",
      "   ---------------------------------------  38.0/38.5 MB 5.4 MB/s eta 0:00:01\n",
      "   ---------------------------------------- 38.5/38.5 MB 5.4 MB/s eta 0:00:00\n",
      "Using cached matplotlib-3.10.3-cp312-cp312-win_amd64.whl (8.1 MB)\n",
      "Downloading seaborn-0.13.2-py3-none-any.whl (294 kB)\n",
      "Downloading contourpy-1.3.3-cp312-cp312-win_amd64.whl (226 kB)\n",
      "Using cached cycler-0.12.1-py3-none-any.whl (8.3 kB)\n",
      "Downloading fonttools-4.59.0-cp312-cp312-win_amd64.whl (2.2 MB)\n",
      "   ---------------------------------------- 0.0/2.2 MB ? eta -:--:--\n",
      "   ------------------------------------- -- 2.1/2.2 MB 10.7 MB/s eta 0:00:01\n",
      "   ---------------------------------------- 2.2/2.2 MB 9.7 MB/s eta 0:00:00\n",
      "Downloading joblib-1.5.1-py3-none-any.whl (307 kB)\n",
      "Using cached kiwisolver-1.4.8-cp312-cp312-win_amd64.whl (71 kB)\n",
      "Downloading pillow-11.3.0-cp312-cp312-win_amd64.whl (7.0 MB)\n",
      "   ---------------------------------------- 0.0/7.0 MB ? eta -:--:--\n",
      "   ------------ --------------------------- 2.1/7.0 MB 11.8 MB/s eta 0:00:01\n",
      "   ------------------------ --------------- 4.2/7.0 MB 10.5 MB/s eta 0:00:01\n",
      "   ------------------------------------ --- 6.3/7.0 MB 10.2 MB/s eta 0:00:01\n",
      "   ---------------------------------------- 7.0/7.0 MB 9.8 MB/s eta 0:00:00\n",
      "Using cached pyparsing-3.2.3-py3-none-any.whl (111 kB)\n",
      "Using cached pytz-2025.2-py2.py3-none-any.whl (509 kB)\n",
      "Using cached threadpoolctl-3.6.0-py3-none-any.whl (18 kB)\n",
      "Using cached tzdata-2025.2-py2.py3-none-any.whl (347 kB)\n",
      "Installing collected packages: pytz, tzdata, threadpoolctl, pyparsing, pillow, numpy, kiwisolver, joblib, fonttools, cycler, scipy, pandas, contourpy, scikit-learn, matplotlib, seaborn\n",
      "Successfully installed contourpy-1.3.3 cycler-0.12.1 fonttools-4.59.0 joblib-1.5.1 kiwisolver-1.4.8 matplotlib-3.10.3 numpy-2.3.2 pandas-2.3.1 pillow-11.3.0 pyparsing-3.2.3 pytz-2025.2 scikit-learn-1.7.1 scipy-1.16.1 seaborn-0.13.2 threadpoolctl-3.6.0 tzdata-2025.2\n",
      "Note: you may need to restart the kernel to use updated packages.\n"
     ]
    },
    {
     "name": "stderr",
     "output_type": "stream",
     "text": [
      "\n",
      "[notice] A new release of pip is available: 24.2 -> 25.1.1\n",
      "[notice] To update, run: python.exe -m pip install --upgrade pip\n"
     ]
    }
   ],
   "source": [
    "\"\"\"This script installs the required packages for data analysis and machine learning.\n",
    "It uses pip to install the latest versions of numpy, pandas, scikit-learn, scipy\"\"\"\n",
    "\n",
    "%pip install numpy pandas scikit-learn scipy matplotlib seaborn --upgrade\n"
   ]
  },
  {
   "cell_type": "code",
   "execution_count": 61,
   "id": "9a50b3bc",
   "metadata": {},
   "outputs": [],
   "source": [
    "'''Importing necessary libraries for anomaly detection and data analysis.'''\n",
    "\n",
    "import numpy as np\n",
    "import pandas as pd\n",
    "import sklearn\n",
    "import scipy\n",
    "import matplotlib.pyplot as plt\n",
    "import seaborn as sns\n",
    "from sklearn.preprocessing import StandardScaler,LabelEncoder\n",
    "from sklearn.metrics import classification_report,accuracy_score,confusion_matrix\n",
    "from sklearn.ensemble import IsolationForest\n",
    "from sklearn.neighbors import LocalOutlierFactor\n",
    "from sklearn.svm import OneClassSVM\n",
    "from pylab import rcParams\n",
    "rcParams['figure.figsize'] = 14, 8\n",
    "RANDOM_SEED = 42\n",
    "LABELS = [\"Normal\", \"Fraud\"]"
   ]
  },
  {
   "cell_type": "markdown",
   "id": "5fdbb5e3",
   "metadata": {},
   "source": [
    "# Analyzing & Preprocessing Daset "
   ]
  },
  {
   "cell_type": "code",
   "execution_count": 7,
   "id": "ae1def1e",
   "metadata": {},
   "outputs": [
    {
     "data": {
      "text/html": [
       "<div>\n",
       "<style scoped>\n",
       "    .dataframe tbody tr th:only-of-type {\n",
       "        vertical-align: middle;\n",
       "    }\n",
       "\n",
       "    .dataframe tbody tr th {\n",
       "        vertical-align: top;\n",
       "    }\n",
       "\n",
       "    .dataframe thead th {\n",
       "        text-align: right;\n",
       "    }\n",
       "</style>\n",
       "<table border=\"1\" class=\"dataframe\">\n",
       "  <thead>\n",
       "    <tr style=\"text-align: right;\">\n",
       "      <th></th>\n",
       "      <th>TransactionID</th>\n",
       "      <th>TransactionDate</th>\n",
       "      <th>Amount</th>\n",
       "      <th>MerchantID</th>\n",
       "      <th>TransactionType</th>\n",
       "      <th>Location</th>\n",
       "      <th>IsFraud</th>\n",
       "    </tr>\n",
       "  </thead>\n",
       "  <tbody>\n",
       "    <tr>\n",
       "      <th>0</th>\n",
       "      <td>1</td>\n",
       "      <td>2024-04-03 14:15:35.462794</td>\n",
       "      <td>4189.27</td>\n",
       "      <td>688</td>\n",
       "      <td>refund</td>\n",
       "      <td>San Antonio</td>\n",
       "      <td>0</td>\n",
       "    </tr>\n",
       "    <tr>\n",
       "      <th>1</th>\n",
       "      <td>2</td>\n",
       "      <td>2024-03-19 13:20:35.462824</td>\n",
       "      <td>2659.71</td>\n",
       "      <td>109</td>\n",
       "      <td>refund</td>\n",
       "      <td>Dallas</td>\n",
       "      <td>0</td>\n",
       "    </tr>\n",
       "    <tr>\n",
       "      <th>2</th>\n",
       "      <td>3</td>\n",
       "      <td>2024-01-08 10:08:35.462834</td>\n",
       "      <td>784.00</td>\n",
       "      <td>394</td>\n",
       "      <td>purchase</td>\n",
       "      <td>New York</td>\n",
       "      <td>0</td>\n",
       "    </tr>\n",
       "    <tr>\n",
       "      <th>3</th>\n",
       "      <td>4</td>\n",
       "      <td>2024-04-13 23:50:35.462850</td>\n",
       "      <td>3514.40</td>\n",
       "      <td>944</td>\n",
       "      <td>purchase</td>\n",
       "      <td>Philadelphia</td>\n",
       "      <td>0</td>\n",
       "    </tr>\n",
       "    <tr>\n",
       "      <th>4</th>\n",
       "      <td>5</td>\n",
       "      <td>2024-07-12 18:51:35.462858</td>\n",
       "      <td>369.07</td>\n",
       "      <td>475</td>\n",
       "      <td>purchase</td>\n",
       "      <td>Phoenix</td>\n",
       "      <td>0</td>\n",
       "    </tr>\n",
       "  </tbody>\n",
       "</table>\n",
       "</div>"
      ],
      "text/plain": [
       "   TransactionID             TransactionDate   Amount  MerchantID  \\\n",
       "0              1  2024-04-03 14:15:35.462794  4189.27         688   \n",
       "1              2  2024-03-19 13:20:35.462824  2659.71         109   \n",
       "2              3  2024-01-08 10:08:35.462834   784.00         394   \n",
       "3              4  2024-04-13 23:50:35.462850  3514.40         944   \n",
       "4              5  2024-07-12 18:51:35.462858   369.07         475   \n",
       "\n",
       "  TransactionType      Location  IsFraud  \n",
       "0          refund   San Antonio        0  \n",
       "1          refund        Dallas        0  \n",
       "2        purchase      New York        0  \n",
       "3        purchase  Philadelphia        0  \n",
       "4        purchase       Phoenix        0  "
      ]
     },
     "execution_count": 7,
     "metadata": {},
     "output_type": "execute_result"
    }
   ],
   "source": [
    "df = pd.read_csv(r'D:\\projects\\anamoly_detection\\project_setup\\credit_card_fraud_dataset.csv')\n",
    "df.head()"
   ]
  },
  {
   "cell_type": "code",
   "execution_count": 8,
   "id": "2b0ca785",
   "metadata": {},
   "outputs": [
    {
     "name": "stdout",
     "output_type": "stream",
     "text": [
      "<class 'pandas.core.frame.DataFrame'>\n",
      "RangeIndex: 100000 entries, 0 to 99999\n",
      "Data columns (total 7 columns):\n",
      " #   Column           Non-Null Count   Dtype  \n",
      "---  ------           --------------   -----  \n",
      " 0   TransactionID    100000 non-null  int64  \n",
      " 1   TransactionDate  100000 non-null  object \n",
      " 2   Amount           100000 non-null  float64\n",
      " 3   MerchantID       100000 non-null  int64  \n",
      " 4   TransactionType  100000 non-null  object \n",
      " 5   Location         100000 non-null  object \n",
      " 6   IsFraud          100000 non-null  int64  \n",
      "dtypes: float64(1), int64(3), object(3)\n",
      "memory usage: 5.3+ MB\n",
      "None\n"
     ]
    }
   ],
   "source": [
    "# geting information about the dataset\n",
    "print(df.info())"
   ]
  },
  {
   "cell_type": "code",
   "execution_count": 15,
   "id": "6e5cc579",
   "metadata": {},
   "outputs": [
    {
     "data": {
      "text/plain": [
       "TransactionID      0\n",
       "TransactionDate    0\n",
       "Amount             0\n",
       "MerchantID         0\n",
       "TransactionType    0\n",
       "Location           0\n",
       "IsFraud            0\n",
       "dtype: int64"
      ]
     },
     "execution_count": 15,
     "metadata": {},
     "output_type": "execute_result"
    }
   ],
   "source": [
    "# Checking for null values in the dataset\n",
    "df.isnull().sum()"
   ]
  },
  {
   "cell_type": "markdown",
   "id": "32616f5d",
   "metadata": {},
   "source": [
    "### Extracting date, time, weekday, month  from transaction date "
   ]
  },
  {
   "cell_type": "code",
   "execution_count": 25,
   "id": "2ab539b7",
   "metadata": {},
   "outputs": [],
   "source": [
    "df['TransactionDate'] = pd.to_datetime(df['TransactionDate'])\n"
   ]
  },
  {
   "cell_type": "code",
   "execution_count": 26,
   "id": "1aefe48b",
   "metadata": {},
   "outputs": [],
   "source": [
    "df['hour']= df['TransactionDate'].dt.hour\n",
    "df['day']= df['TransactionDate'].dt.day\n",
    "df['weekday']= df['TransactionDate'].dt.weekday\n",
    "df['month']= df['TransactionDate'].dt.month\n",
    "df['year']= df['TransactionDate'].dt.year"
   ]
  },
  {
   "cell_type": "code",
   "execution_count": 27,
   "id": "32d3139b",
   "metadata": {},
   "outputs": [],
   "source": [
    "df.drop(['TransactionDate'], axis=1, inplace=True)"
   ]
  },
  {
   "cell_type": "markdown",
   "id": "5af26fb7",
   "metadata": {},
   "source": [
    "### Encoding TransactionType "
   ]
  },
  {
   "cell_type": "code",
   "execution_count": 39,
   "id": "23ec6128",
   "metadata": {},
   "outputs": [],
   "source": [
    "le_encode = LabelEncoder()\n",
    "df['TransactionType']  = le_encode.fit_transform(df['TransactionType'])"
   ]
  },
  {
   "cell_type": "code",
   "execution_count": 40,
   "id": "b10c78be",
   "metadata": {},
   "outputs": [
    {
     "data": {
      "text/plain": [
       "0    1\n",
       "1    1\n",
       "2    0\n",
       "3    0\n",
       "4    0\n",
       "Name: TransactionType, dtype: int64"
      ]
     },
     "execution_count": 40,
     "metadata": {},
     "output_type": "execute_result"
    }
   ],
   "source": [
    "df['TransactionType'].head()"
   ]
  },
  {
   "cell_type": "markdown",
   "id": "0096f644",
   "metadata": {},
   "source": [
    "### Analyzing Location dfield"
   ]
  },
  {
   "cell_type": "code",
   "execution_count": 50,
   "id": "7e749182",
   "metadata": {},
   "outputs": [
    {
     "name": "stdout",
     "output_type": "stream",
     "text": [
      "10\n",
      "Location\n",
      "Chicago         10193\n",
      "San Diego       10111\n",
      "Dallas          10076\n",
      "San Antonio     10062\n",
      "New York         9993\n",
      "Houston          9991\n",
      "Phoenix          9960\n",
      "Los Angeles      9936\n",
      "Philadelphia     9873\n",
      "San Jose         9805\n",
      "Name: count, dtype: int64\n"
     ]
    }
   ],
   "source": [
    "print(df['Location'].nunique())\n",
    "print(df['Location'].value_counts())"
   ]
  },
  {
   "cell_type": "markdown",
   "id": "0de807c6",
   "metadata": {},
   "source": [
    "Since you have only 10 cities, go with One-Hot Encoding — it’s cleaner for purely categorical columns like Location."
   ]
  },
  {
   "cell_type": "code",
   "execution_count": null,
   "id": "64c52c62",
   "metadata": {},
   "outputs": [],
   "source": [
    "# One-hot encode 'Location' and drop the original\n",
    "df = pd.get_dummies(df, columns=['Location'], drop_first=True)"
   ]
  },
  {
   "cell_type": "code",
   "execution_count": 52,
   "id": "a1f6df38",
   "metadata": {},
   "outputs": [
    {
     "data": {
      "text/html": [
       "<div>\n",
       "<style scoped>\n",
       "    .dataframe tbody tr th:only-of-type {\n",
       "        vertical-align: middle;\n",
       "    }\n",
       "\n",
       "    .dataframe tbody tr th {\n",
       "        vertical-align: top;\n",
       "    }\n",
       "\n",
       "    .dataframe thead th {\n",
       "        text-align: right;\n",
       "    }\n",
       "</style>\n",
       "<table border=\"1\" class=\"dataframe\">\n",
       "  <thead>\n",
       "    <tr style=\"text-align: right;\">\n",
       "      <th></th>\n",
       "      <th>TransactionID</th>\n",
       "      <th>Amount</th>\n",
       "      <th>MerchantID</th>\n",
       "      <th>TransactionType</th>\n",
       "      <th>IsFraud</th>\n",
       "      <th>hour</th>\n",
       "      <th>day</th>\n",
       "      <th>weekday</th>\n",
       "      <th>month</th>\n",
       "      <th>year</th>\n",
       "      <th>Location_Dallas</th>\n",
       "      <th>Location_Houston</th>\n",
       "      <th>Location_Los Angeles</th>\n",
       "      <th>Location_New York</th>\n",
       "      <th>Location_Philadelphia</th>\n",
       "      <th>Location_Phoenix</th>\n",
       "      <th>Location_San Antonio</th>\n",
       "      <th>Location_San Diego</th>\n",
       "      <th>Location_San Jose</th>\n",
       "    </tr>\n",
       "  </thead>\n",
       "  <tbody>\n",
       "    <tr>\n",
       "      <th>0</th>\n",
       "      <td>1</td>\n",
       "      <td>4189.27</td>\n",
       "      <td>688</td>\n",
       "      <td>1</td>\n",
       "      <td>0</td>\n",
       "      <td>14</td>\n",
       "      <td>3</td>\n",
       "      <td>2</td>\n",
       "      <td>4</td>\n",
       "      <td>2024</td>\n",
       "      <td>False</td>\n",
       "      <td>False</td>\n",
       "      <td>False</td>\n",
       "      <td>False</td>\n",
       "      <td>False</td>\n",
       "      <td>False</td>\n",
       "      <td>True</td>\n",
       "      <td>False</td>\n",
       "      <td>False</td>\n",
       "    </tr>\n",
       "    <tr>\n",
       "      <th>1</th>\n",
       "      <td>2</td>\n",
       "      <td>2659.71</td>\n",
       "      <td>109</td>\n",
       "      <td>1</td>\n",
       "      <td>0</td>\n",
       "      <td>13</td>\n",
       "      <td>19</td>\n",
       "      <td>1</td>\n",
       "      <td>3</td>\n",
       "      <td>2024</td>\n",
       "      <td>True</td>\n",
       "      <td>False</td>\n",
       "      <td>False</td>\n",
       "      <td>False</td>\n",
       "      <td>False</td>\n",
       "      <td>False</td>\n",
       "      <td>False</td>\n",
       "      <td>False</td>\n",
       "      <td>False</td>\n",
       "    </tr>\n",
       "    <tr>\n",
       "      <th>2</th>\n",
       "      <td>3</td>\n",
       "      <td>784.00</td>\n",
       "      <td>394</td>\n",
       "      <td>0</td>\n",
       "      <td>0</td>\n",
       "      <td>10</td>\n",
       "      <td>8</td>\n",
       "      <td>0</td>\n",
       "      <td>1</td>\n",
       "      <td>2024</td>\n",
       "      <td>False</td>\n",
       "      <td>False</td>\n",
       "      <td>False</td>\n",
       "      <td>True</td>\n",
       "      <td>False</td>\n",
       "      <td>False</td>\n",
       "      <td>False</td>\n",
       "      <td>False</td>\n",
       "      <td>False</td>\n",
       "    </tr>\n",
       "    <tr>\n",
       "      <th>3</th>\n",
       "      <td>4</td>\n",
       "      <td>3514.40</td>\n",
       "      <td>944</td>\n",
       "      <td>0</td>\n",
       "      <td>0</td>\n",
       "      <td>23</td>\n",
       "      <td>13</td>\n",
       "      <td>5</td>\n",
       "      <td>4</td>\n",
       "      <td>2024</td>\n",
       "      <td>False</td>\n",
       "      <td>False</td>\n",
       "      <td>False</td>\n",
       "      <td>False</td>\n",
       "      <td>True</td>\n",
       "      <td>False</td>\n",
       "      <td>False</td>\n",
       "      <td>False</td>\n",
       "      <td>False</td>\n",
       "    </tr>\n",
       "    <tr>\n",
       "      <th>4</th>\n",
       "      <td>5</td>\n",
       "      <td>369.07</td>\n",
       "      <td>475</td>\n",
       "      <td>0</td>\n",
       "      <td>0</td>\n",
       "      <td>18</td>\n",
       "      <td>12</td>\n",
       "      <td>4</td>\n",
       "      <td>7</td>\n",
       "      <td>2024</td>\n",
       "      <td>False</td>\n",
       "      <td>False</td>\n",
       "      <td>False</td>\n",
       "      <td>False</td>\n",
       "      <td>False</td>\n",
       "      <td>True</td>\n",
       "      <td>False</td>\n",
       "      <td>False</td>\n",
       "      <td>False</td>\n",
       "    </tr>\n",
       "  </tbody>\n",
       "</table>\n",
       "</div>"
      ],
      "text/plain": [
       "   TransactionID   Amount  MerchantID  TransactionType  IsFraud  hour  day  \\\n",
       "0              1  4189.27         688                1        0    14    3   \n",
       "1              2  2659.71         109                1        0    13   19   \n",
       "2              3   784.00         394                0        0    10    8   \n",
       "3              4  3514.40         944                0        0    23   13   \n",
       "4              5   369.07         475                0        0    18   12   \n",
       "\n",
       "   weekday  month  year  Location_Dallas  Location_Houston  \\\n",
       "0        2      4  2024            False             False   \n",
       "1        1      3  2024             True             False   \n",
       "2        0      1  2024            False             False   \n",
       "3        5      4  2024            False             False   \n",
       "4        4      7  2024            False             False   \n",
       "\n",
       "   Location_Los Angeles  Location_New York  Location_Philadelphia  \\\n",
       "0                 False              False                  False   \n",
       "1                 False              False                  False   \n",
       "2                 False               True                  False   \n",
       "3                 False              False                   True   \n",
       "4                 False              False                  False   \n",
       "\n",
       "   Location_Phoenix  Location_San Antonio  Location_San Diego  \\\n",
       "0             False                  True               False   \n",
       "1             False                 False               False   \n",
       "2             False                 False               False   \n",
       "3             False                 False               False   \n",
       "4              True                 False               False   \n",
       "\n",
       "   Location_San Jose  \n",
       "0              False  \n",
       "1              False  \n",
       "2              False  \n",
       "3              False  \n",
       "4              False  "
      ]
     },
     "execution_count": 52,
     "metadata": {},
     "output_type": "execute_result"
    }
   ],
   "source": [
    "df.head(5)"
   ]
  },
  {
   "cell_type": "markdown",
   "id": "85ae8a09",
   "metadata": {},
   "source": [
    "# Visualize Class Distribution"
   ]
  },
  {
   "cell_type": "code",
   "execution_count": 41,
   "id": "55fa8a31",
   "metadata": {},
   "outputs": [
    {
     "data": {
      "image/png": "[encoded data removed]",
      "text/plain": [
       "<Figure size 1400x800 with 1 Axes>"
      ]
     },
     "metadata": {},
     "output_type": "display_data"
    }
   ],
   "source": [
    "sns.countplot(x='IsFraud', data=df)\n",
    "plt.title('Class Distributions \\n (0: Normal, 1: Fraud)', fontsize=14)\n",
    "plt.show()"
   ]
  },
  {
   "cell_type": "markdown",
   "id": "6a24cf72",
   "metadata": {},
   "source": [
    "# Feature Selection and Scaling (if needed)"
   ]
  },
  {
   "cell_type": "code",
   "execution_count": 42,
   "id": "7dcb6a9a",
   "metadata": {},
   "outputs": [
    {
     "name": "stdout",
     "output_type": "stream",
     "text": [
      "IsFraud\n",
      "0    0.99\n",
      "1    0.01\n",
      "Name: proportion, dtype: float64\n"
     ]
    }
   ],
   "source": [
    "print(df['IsFraud'].value_counts(normalize=True))"
   ]
  },
  {
   "cell_type": "code",
   "execution_count": 54,
   "id": "43514420",
   "metadata": {},
   "outputs": [],
   "source": [
    "# dropin target column from the dataset\n",
    "\n",
    "x = df.drop(['IsFraud'], axis=1)\n",
    "y = df['IsFraud']\n"
   ]
  },
  {
   "cell_type": "markdown",
   "id": "92846b39",
   "metadata": {},
   "source": [
    "We're scaling all features to have mean = 0 and std = 1 using StandardScaler.\n",
    "This ensures features like Amount and Hour are on the same scale.\n",
    "Isolation Forest is distance-based — unscaled data can bias results.\n",
    "fit_transform(X) fits the scaler and transforms the data in one step."
   ]
  },
  {
   "cell_type": "code",
   "execution_count": null,
   "id": "db1d1add",
   "metadata": {},
   "outputs": [
    {
     "name": "stdout",
     "output_type": "stream",
     "text": [
      "       TransactionID   Amount  MerchantID  TransactionType  hour  day  \\\n",
      "0                  1  4189.27         688                1    14    3   \n",
      "1                  2  2659.71         109                1    13   19   \n",
      "2                  3   784.00         394                0    10    8   \n",
      "3                  4  3514.40         944                0    23   13   \n",
      "4                  5   369.07         475                0    18   12   \n",
      "...              ...      ...         ...              ...   ...  ...   \n",
      "99995          99996  1057.29         289                1     0    7   \n",
      "99996          99997   297.25         745                1    23   22   \n",
      "99997          99998  3448.56         690                0    19   31   \n",
      "99998          99999  3750.79         644                0     9   18   \n",
      "99999         100000  1596.79         675                1    19    5   \n",
      "\n",
      "       weekday  month  year  Location_Dallas  Location_Houston  \\\n",
      "0            2      4  2024            False             False   \n",
      "1            1      3  2024             True             False   \n",
      "2            0      1  2024            False             False   \n",
      "3            5      4  2024            False             False   \n",
      "4            4      7  2024            False             False   \n",
      "...        ...    ...   ...              ...               ...   \n",
      "99995        4      6  2024            False             False   \n",
      "99996        6     10  2023            False             False   \n",
      "99997        4      5  2024            False             False   \n",
      "99998        4     10  2024            False             False   \n",
      "99999        1      3  2024            False              True   \n",
      "\n",
      "       Location_Los Angeles  Location_New York  Location_Philadelphia  \\\n",
      "0                     False              False                  False   \n",
      "1                     False              False                  False   \n",
      "2                     False               True                  False   \n",
      "3                     False              False                   True   \n",
      "4                     False              False                  False   \n",
      "...                     ...                ...                    ...   \n",
      "99995                 False              False                  False   \n",
      "99996                 False              False                  False   \n",
      "99997                 False              False                  False   \n",
      "99998                 False              False                   True   \n",
      "99999                 False              False                  False   \n",
      "\n",
      "       Location_Phoenix  Location_San Antonio  Location_San Diego  \\\n",
      "0                 False                  True               False   \n",
      "1                 False                 False               False   \n",
      "2                 False                 False               False   \n",
      "3                 False                 False               False   \n",
      "4                  True                 False               False   \n",
      "...                 ...                   ...                 ...   \n",
      "99995             False                  True               False   \n",
      "99996             False                  True               False   \n",
      "99997             False                  True               False   \n",
      "99998             False                 False               False   \n",
      "99999             False                 False               False   \n",
      "\n",
      "       Location_San Jose  \n",
      "0                  False  \n",
      "1                  False  \n",
      "2                  False  \n",
      "3                  False  \n",
      "4                  False  \n",
      "...                  ...  \n",
      "99995              False  \n",
      "99996              False  \n",
      "99997              False  \n",
      "99998              False  \n",
      "99999              False  \n",
      "\n",
      "[100000 rows x 18 columns]\n"
     ]
    }
   ],
   "source": [
    "# Scaling the data\n",
    "scaler = StandardScaler()\n",
    "x_scaled = scaler.fit_transform(x)\n"
   ]
  },
  {
   "cell_type": "code",
   "execution_count": 56,
   "id": "72149d18",
   "metadata": {},
   "outputs": [
    {
     "data": {
      "text/plain": [
       "array([[-1.73203349,  1.17316072,  0.64535719, ...,  2.9897127 ,\n",
       "        -0.33538511, -0.32971034],\n",
       "       [-1.73199885,  0.11274012, -1.3600847 , ..., -0.3344803 ,\n",
       "        -0.33538511, -0.32971034],\n",
       "       [-1.73196421, -1.187661  , -0.37295009, ..., -0.3344803 ,\n",
       "        -0.33538511, -0.32971034],\n",
       "       ...,\n",
       "       [ 1.73196421,  0.65963778,  0.65228445, ...,  2.9897127 ,\n",
       "        -0.33538511, -0.32971034],\n",
       "       [ 1.73199885,  0.86916923,  0.49295746, ..., -0.3344803 ,\n",
       "        -0.33538511, -0.32971034],\n",
       "       [ 1.73203349, -0.6241661 ,  0.60033   , ..., -0.3344803 ,\n",
       "        -0.33538511, -0.32971034]], shape=(100000, 18))"
      ]
     },
     "execution_count": 56,
     "metadata": {},
     "output_type": "execute_result"
    }
   ],
   "source": [
    "x_scaled"
   ]
  },
  {
   "cell_type": "markdown",
   "id": "859c77de",
   "metadata": {},
   "source": [
    "# Train Isolation Forest"
   ]
  },
  {
   "cell_type": "markdown",
   "id": "5f21f19c",
   "metadata": {},
   "source": [
    "| Parameter            | What It Means                                                                            |\n",
    "| -------------------- | ---------------------------------------------------------------------------------------- |\n",
    "| `n_estimators=100`   | Number of **trees** in the forest (like decision trees); more trees = more stability     |\n",
    "| `contamination=0.01` | Approximate **proportion of anomalies** in the data (1% here); helps model set threshold |\n",
    "| `random_state=42`    | Ensures **reproducibility** of results by fixing the random seed                         |\n",
    "| `fit(X_scaled)`      | Fits the Isolation Forest on scaled features (unsupervised — doesn’t use labels)         |\n"
   ]
  },
  {
   "cell_type": "code",
   "execution_count": 68,
   "id": "53264ce2",
   "metadata": {},
   "outputs": [],
   "source": [
    "itree = IsolationForest(n_estimators=100, contamination=0.01, random_state=42)"
   ]
  },
  {
   "cell_type": "markdown",
   "id": "8616f9f9",
   "metadata": {},
   "source": [
    "iso_forest.predict(X_scaled)\n",
    "\n",
    "Predicts each data point as either:\n",
    "-1 → Anomaly\n",
    "1 → Normal\n",
    "\n",
    "[1 if i == -1 else 0 for i in pred]\n",
    "\n",
    "Converts model output to match your IsFraud column:\n",
    "1 → Fraud (Anomaly)\n",
    "0 → Normal transaction\n"
   ]
  },
  {
   "cell_type": "code",
   "execution_count": 69,
   "id": "2a83f4e2",
   "metadata": {},
   "outputs": [],
   "source": [
    "predictions = itree.fit_predict(x_scaled)\n",
    "\n",
    "outliers = [1 if i==-1 else 0 for i in predictions]"
   ]
  },
  {
   "cell_type": "markdown",
   "id": "3cde6e21",
   "metadata": {},
   "source": [
    "# 1.Confusion Matrix"
   ]
  },
  {
   "cell_type": "markdown",
   "id": "cb19a924",
   "metadata": {},
   "source": [
    "|                       | Predicted Normal (0) | Predicted Fraud (1)  |\n",
    "| --------------------- | -------------------- | -------------------- |\n",
    "| **Actual Normal (0)** | True Negatives (TN)  | False Positives (FP) |\n",
    "| **Actual Fraud (1)**  | False Negatives (FN) | True Positives (TP)  |\n"
   ]
  },
  {
   "cell_type": "markdown",
   "id": "405c4e8e",
   "metadata": {},
   "source": [
    "It tells you how many:\n",
    "\n",
    "Normal transactions were predicted correctly (TN)\n",
    "\n",
    "Frauds were missed (FN), etc."
   ]
  },
  {
   "cell_type": "markdown",
   "id": "b0a87036",
   "metadata": {},
   "source": [
    "#  2.Classification Report"
   ]
  },
  {
   "cell_type": "markdown",
   "id": "5e05fe0f",
   "metadata": {},
   "source": [
    "| Metric        | Meaning                                                                   |\n",
    "| ------------- | ------------------------------------------------------------------------- |\n",
    "| **Precision** | Of the transactions predicted as fraud, how many actually were fraud?     |\n",
    "| **Recall**    | Of all actual frauds, how many did the model correctly identify?          |\n",
    "| **F1-score**  | Balance between precision and recall (useful when classes are imbalanced) |\n",
    "| **Support**   | Number of actual occurrences of each class (0 and 1)                      |\n"
   ]
  },
  {
   "cell_type": "code",
   "execution_count": 73,
   "id": "915961fd",
   "metadata": {},
   "outputs": [
    {
     "name": "stdout",
     "output_type": "stream",
     "text": [
      "Confusion Matrix:\n",
      "[[98017   983]\n",
      " [  983    17]]\n",
      "\n",
      "\n",
      "Classification Report:\n",
      "              precision    recall  f1-score   support\n",
      "\n",
      "           0       0.99      0.99      0.99     99000\n",
      "           1       0.02      0.02      0.02      1000\n",
      "\n",
      "    accuracy                           0.98    100000\n",
      "   macro avg       0.50      0.50      0.50    100000\n",
      "weighted avg       0.98      0.98      0.98    100000\n",
      "\n",
      "\n",
      "\n",
      "Accuracy Score:\n",
      "0.98034\n"
     ]
    }
   ],
   "source": [
    "# Printing the results\n",
    "print(\"Confusion Matrix:\")\n",
    "print(confusion_matrix(y, outliers)) # Confusion Matrix\n",
    "print('\\n')\n",
    "print(\"Classification Report:\")\n",
    "print(classification_report(y, outliers)) # Classification Report\n",
    "print('\\n')\n",
    "print(\"Accuracy Score:\")\n",
    "print(accuracy_score(y, outliers))  # Accuracy Score"
   ]
  },
  {
   "cell_type": "code",
   "execution_count": null,
   "id": "07693397",
   "metadata": {},
   "outputs": [],
   "source": []
  },
  {
   "cell_type": "code",
   "execution_count": null,
   "id": "94cd9a8e",
   "metadata": {},
   "outputs": [],
   "source": []
  },
  {
   "cell_type": "code",
   "execution_count": null,
   "id": "739b6ff9",
   "metadata": {},
   "outputs": [],
   "source": []
  }
 ],
 "metadata": {
  "kernelspec": {
   "display_name": "env",
   "language": "python",
   "name": "python3"
  },
  "language_info": {
   "codemirror_mode": {
    "name": "ipython",
    "version": 3
   },
   "file_extension": ".py",
   "mimetype": "text/x-python",
   "name": "python",
   "nbconvert_exporter": "python",
   "pygments_lexer": "ipython3",
   "version": "3.12.7"
  }
 },
 "nbformat": 4,
 "nbformat_minor": 5
}
